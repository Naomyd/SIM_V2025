{
 "cells": [
  {
   "cell_type": "markdown",
   "id": "bcce2c1d",
   "metadata": {},
   "source": [
    "<p align=\"center\">\n",
    "  <img src=\"https://oci02.img.iteso.mx/Identidades-De-Instancia/ITESO/Logos%20ITESO/Logo-ITESO-Principal.jpg\" alt=\"ITESO Logo\" width=\"400\">\n",
    "</p>\n",
    "\n",
    "<h1 align=\"center\">Simulación Matemática</h1>\n",
    "<h3 align=\"center\">Departamento de Matemáticas y Física</h3>\n",
    "\n",
    "- **Nombre del estudiante:** _______________________________\n",
    "\n",
    "- **Número de Matrícula:** ________________________\n",
    "\n",
    "- **Nombre del profesor:** Alejandro Noel Hernández Gutiérrez\n",
    "\n",
    "- **Fecha de entrega:** _________________________________\n",
    "\n",
    "- **Nombre del proyecto / práctica:** ACTIVIDAD_X.Y.Z\n",
    "\n",
    "- **Tema:** ______________________________________________\n"
   ]
  },
  {
   "cell_type": "markdown",
   "metadata": {},
   "source": [
    "# Tipos de Variables\n",
    "En este cuaderno aprenderás sobre los principales tipos de variables en Python, sus características, y cómo utilizarlas. Cada sección contiene ejemplos prácticos y una actividad al final para reforzar lo aprendido. ¡Comencemos!"
   ]
  },
  {
   "cell_type": "markdown",
   "id": "a90766f9",
   "metadata": {},
   "source": [
    "# Variables Cualitativas y Cuantitativas"
   ]
  },
  {
   "cell_type": "markdown",
   "id": "cc3a7486",
   "metadata": {},
   "source": [
    "## 1. Variables Cualitativas\n",
    "Las variables cualitativas describen cualidades o categorías. No se expresan en números, sino en palabras o etiquetas.\n",
    "Por ejemplo, el color de un objeto, el estado civil o el género."
   ]
  },
  {
   "cell_type": "code",
   "execution_count": null,
   "id": "8244ae95",
   "metadata": {},
   "outputs": [],
   "source": [
    "# Ejemplo\n",
    "colores_favoritos = {\n",
    "    \"veronica\": \"negro\",\n",
    "    \"mateo\": \"azul\",\n",
    "    \"camila\": \"rojo\",\n",
    "    \"noel\": \"verde\",\n",
    "    \"valentina\": \"rosa\",\n",
    "    \"david\": \"gris\",\n",
    "    \"sofia\": \"morado\",\n",
    "    \"martin\": \"naranja\",\n",
    "    \"emma\": \"amarillo\",\n",
    "    \"nicolas\": \"blanco\"\n",
    "}\n",
    "print(f'Mi color favorito es: {colores_favoritos[\"noel\"]}')"
   ]
  },
  {
   "cell_type": "code",
   "execution_count": null,
   "id": "ecd97326",
   "metadata": {},
   "outputs": [],
   "source": [
    "# Ejemplo\n",
    "estado_civil = {1: \"soltero\", 2: \"casado\", 3: \"divorciado\", 4: \"viudo\", 5: \"en pareja\"}\n",
    "print(f'El estado civil es: {estado_civil[2]}')"
   ]
  },
  {
   "cell_type": "markdown",
   "id": "9da2fa17",
   "metadata": {},
   "source": [
    "### Conceptos clave\n",
    "- `Variable cualitativa`: también llamada categórica, representa cualidades o atributos no numéricos (por ejemplo: color, tipo, preferencia, categoría).\n",
    "\n",
    "- `Clase`: Plantilla o estructura general de un objeto en la que se abstraen sus cualidades y características, así como sus funciones. \n",
    "\n",
    "- `Instancia`: es un objeto creado a partir de una clase; cada instancia puede tener diferentes valores de atributos.\n",
    "\n",
    "- `Método`: Función definida dentro de una clase que actúa sobre sus datos"
   ]
  },
  {
   "cell_type": "code",
   "execution_count": null,
   "id": "cf67b130",
   "metadata": {},
   "outputs": [],
   "source": [
    "# Definimos una clase Cliente para representar a cada individuo en la simulación\n",
    "class Cliente:\n",
    "    def __init__(self, nombre, preferencia_color):\n",
    "        self.nombre = nombre\n",
    "        self.preferencia_color = preferencia_color  # Variable cualitativa\n",
    "\n",
    "    def describir(self):\n",
    "        print(f\"{self.nombre} prefiere el color {self.preferencia_color}.\")"
   ]
  },
  {
   "cell_type": "code",
   "execution_count": 5,
   "id": "ad49dc4b",
   "metadata": {},
   "outputs": [
    {
     "ename": "NameError",
     "evalue": "name 'Cliente' is not defined",
     "output_type": "error",
     "traceback": [
      "\u001b[31m---------------------------------------------------------------------------\u001b[39m",
      "\u001b[31mNameError\u001b[39m                                 Traceback (most recent call last)",
      "\u001b[36mCell\u001b[39m\u001b[36m \u001b[39m\u001b[32mIn[5]\u001b[39m\u001b[32m, line 2\u001b[39m\n\u001b[32m      1\u001b[39m \u001b[38;5;66;03m# Creamos instancias de la clase con diferentes valores cualitativos\u001b[39;00m\n\u001b[32m----> \u001b[39m\u001b[32m2\u001b[39m Ana = \u001b[43mCliente\u001b[49m(nombre=\u001b[33m\"\u001b[39m\u001b[33mAna\u001b[39m\u001b[33m\"\u001b[39m, preferencia_color=\u001b[33m\"\u001b[39m\u001b[33mrojo\u001b[39m\u001b[33m\"\u001b[39m)\n\u001b[32m      3\u001b[39m luis = Cliente(nombre=\u001b[33m\"\u001b[39m\u001b[33mLuis\u001b[39m\u001b[33m\"\u001b[39m, preferencia_color=\u001b[33m\"\u001b[39m\u001b[33mazul\u001b[39m\u001b[33m\"\u001b[39m)\n\u001b[32m      4\u001b[39m sofia = Cliente(nombre=\u001b[33m\"\u001b[39m\u001b[33mSofía\u001b[39m\u001b[33m\"\u001b[39m, preferencia_color=\u001b[33m\"\u001b[39m\u001b[33mverde\u001b[39m\u001b[33m\"\u001b[39m)\n",
      "\u001b[31mNameError\u001b[39m: name 'Cliente' is not defined"
     ]
    }
   ],
   "source": [
    "# Creamos instancias de la clase con diferentes valores cualitativos\n",
    "Ana = Cliente(nombre=\"Ana\", preferencia_color=\"rojo\")\n",
    "luis = Cliente(nombre=\"Luis\", preferencia_color=\"azul\")\n",
    "sofia = Cliente(nombre=\"Sofía\", preferencia_color=\"verde\")"
   ]
  },
  {
   "cell_type": "code",
   "execution_count": 1,
   "id": "eafba2b1",
   "metadata": {},
   "outputs": [
    {
     "ename": "NameError",
     "evalue": "name 'sofia' is not defined",
     "output_type": "error",
     "traceback": [
      "\u001b[31m---------------------------------------------------------------------------\u001b[39m",
      "\u001b[31mNameError\u001b[39m                                 Traceback (most recent call last)",
      "\u001b[36mCell\u001b[39m\u001b[36m \u001b[39m\u001b[32mIn[1]\u001b[39m\u001b[32m, line 2\u001b[39m\n\u001b[32m      1\u001b[39m \u001b[38;5;66;03m# Usamos los métodos para ver el comportamiento\u001b[39;00m\n\u001b[32m----> \u001b[39m\u001b[32m2\u001b[39m \u001b[43msofia\u001b[49m.describir()\n",
      "\u001b[31mNameError\u001b[39m: name 'sofia' is not defined"
     ]
    }
   ],
   "source": [
    "# Usamos los métodos para ver el comportamiento\n",
    "sofia.describir()"
   ]
  },
  {
   "cell_type": "markdown",
   "id": "f5b0aa64",
   "metadata": {},
   "source": [
    "### Live Code example:\n",
    "- Cualidades de un animal\n",
    "- Acciones de un animal\n",
    "- Definir un animal"
   ]
  },
  {
   "cell_type": "code",
   "execution_count": 3,
   "id": "29fad09e",
   "metadata": {},
   "outputs": [],
   "source": [
    "'''\n",
    "Cualidades de un animal\n",
    "Peso\n",
    "Altura\n",
    "Fuerza de mordida\n",
    "Color\n",
    "Habitat\n",
    "Velocidad\n",
    "\n",
    "\n",
    "Comportamientos/acciones de un animal\n",
    "Comer\n",
    "Caminar\n",
    "Dormir\n",
    "Comunicarse\n",
    "'''\n",
    "class Animal:\n",
    "    def __init__(self, nombre_comun, Peso, Altura, Fuerza_de_mordida, Color, Habitat, Velocidad, sonido):\n",
    "        self.nombre_comun = nombre_comun\n",
    "        self.Peso = Peso\n",
    "        self.Altura = Altura\n",
    "        self.Fuerza_de_mordida = Fuerza_de_mordida\n",
    "        self.Color = Color\n",
    "        self.Habitat = Habitat\n",
    "        self.Velocidad = Velocidad\n",
    "        self.sonido = sonido\n",
    "\n",
    "    def Comunicarse(self):\n",
    "        print(f\"{self.nombre_comun} hace {self.sonido}.\")"
   ]
  },
  {
   "cell_type": "code",
   "execution_count": 4,
   "id": "e728da41",
   "metadata": {},
   "outputs": [
    {
     "name": "stdout",
     "output_type": "stream",
     "text": [
      "vaca hace muu.\n"
     ]
    }
   ],
   "source": [
    "vaca= Animal(\"vaca\", 500, 1.5, 200,\"blanco y negro\", \"granja\", 30,\"muu\")\n",
    "vaca.Comunicarse() #La vaca hace muu"
   ]
  },
  {
   "cell_type": "markdown",
   "id": "7178d4c7",
   "metadata": {},
   "source": [
    "### Actividad: Variables Cualitativas\n",
    "Declara tres variables cualitativas: `comida_favorita`, `pais_natal`, y `hobby`. Asigna valores a cada una y luego imprime una frase que las combine."
   ]
  },
  {
   "cell_type": "code",
   "execution_count": 6,
   "id": "04cd0f4b",
   "metadata": {},
   "outputs": [],
   "source": [
    "comida_favorita=\"sushi\"\n",
    "pais_natal= \"méxico\"\n",
    "hobby= \"leer libros\""
   ]
  },
  {
   "cell_type": "code",
   "execution_count": 7,
   "id": "861cba73",
   "metadata": {},
   "outputs": [
    {
     "name": "stdout",
     "output_type": "stream",
     "text": [
      "soy de méxico, mi comida favorita es sushi, y mi hobby es leer libros\n"
     ]
    }
   ],
   "source": [
    "print(f\"soy de {pais_natal}, mi comida favorita es {comida_favorita}, y mi hobby es {hobby}\")"
   ]
  },
  {
   "cell_type": "markdown",
   "id": "17db67c9",
   "metadata": {},
   "source": [
    "## 2. Variables Cuantitativas\n",
    "Las variables cuantitativas representan cantidades y se expresan en números. Pueden ser discretas (valores enteros) o continuas (valores decimales)."
   ]
  },
  {
   "cell_type": "code",
   "execution_count": null,
   "id": "f52fc357",
   "metadata": {},
   "outputs": [],
   "source": [
    "# Ejemplo\n",
    "edad = 25\n",
    "print(f'Tengo {edad} años')"
   ]
  },
  {
   "cell_type": "code",
   "execution_count": null,
   "id": "02abdc48",
   "metadata": {},
   "outputs": [],
   "source": [
    "# Ejemplo\n",
    "altura = 1.75\n",
    "print(f'Mi altura es: {altura} metros')"
   ]
  },
  {
   "cell_type": "code",
   "execution_count": null,
   "id": "ee73bb7a",
   "metadata": {},
   "outputs": [],
   "source": [
    "# Ejemplo\n",
    "peso = 70.5\n",
    "print(f'Mi peso es: {peso} kilogramos')"
   ]
  },
  {
   "cell_type": "markdown",
   "id": "0bc043d2",
   "metadata": {},
   "source": [
    "### Actividad: Indice de masa corporal\n",
    "- Declara una clase persona con dos atributos cuantitativos: `peso` y `estatura`. \n",
    "- Dentro de la clase, crea una función `obtener_imc` para calcular el indice de masa corporal de la persona, utiliza `round(numero, ndigits)` para dejarlo con 2 digitos. \n",
    "\n"
   ]
  },
  {
   "cell_type": "code",
   "execution_count": 12,
   "id": "7d8fde54",
   "metadata": {},
   "outputs": [],
   "source": [
    "class Persona:\n",
    "    def __init__(self, peso, estatura):\n",
    "        self.peso= peso\n",
    "        self.estatura= estatura\n",
    "    def obtener_imc(self):\n",
    "        imc = self.peso/ (self.estatura ** 2)\n",
    "        return round(imc,2)\n",
    "    \n",
    "persona1= Persona(peso=70.5, estatura=1.75)\n"
   ]
  },
  {
   "cell_type": "code",
   "execution_count": 13,
   "id": "baa7cf03",
   "metadata": {},
   "outputs": [
    {
     "name": "stdout",
     "output_type": "stream",
     "text": [
      "el indice de masa corporal es:23.02\n"
     ]
    }
   ],
   "source": [
    "print(f\"el indice de masa corporal es:{persona1.obtener_imc()}\")"
   ]
  },
  {
   "cell_type": "markdown",
   "id": "19540268",
   "metadata": {},
   "source": [
    "- Ahora crea 3 instancias de la clase Persona y define su peso y altura. \n",
    "- Despues usa el método `obtener_imc` e imprime su indice de masa corporal."
   ]
  },
  {
   "cell_type": "code",
   "execution_count": 16,
   "id": "20dc870d",
   "metadata": {},
   "outputs": [],
   "source": [
    "class Persona:\n",
    "    def __init__(self, peso, estatura):\n",
    "        self.peso= peso\n",
    "        self.estatura= estatura\n",
    "    def obtener_imc(self):\n",
    "        imc = self.peso/ (self.estatura ** 2)\n",
    "        return round(imc,2)\n",
    "    \n",
    "persona1= Persona(peso=50, estatura=1.52)\n",
    "persona2= Persona(peso=68, estatura=1.70)\n",
    "persona3= Persona(peso=48, estatura=1.50)"
   ]
  },
  {
   "cell_type": "code",
   "execution_count": 17,
   "id": "429bd46a",
   "metadata": {},
   "outputs": [
    {
     "name": "stdout",
     "output_type": "stream",
     "text": [
      "Persona 1 Imc: 21.64\n",
      "Persona 2 Imc: 23.53\n",
      "Persona 3 Imc: 21.33\n"
     ]
    }
   ],
   "source": [
    "print(f\"Persona 1 Imc: {persona1.obtener_imc()}\")\n",
    "print(f\"Persona 2 Imc: {persona2.obtener_imc()}\")\n",
    "print(f\"Persona 3 Imc: {persona3.obtener_imc()}\")"
   ]
  },
  {
   "cell_type": "markdown",
   "metadata": {},
   "source": [
    "# Operadores Aritméticos\n",
    "Los operadores aritméticos se utilizan para realizar operaciones matemáticas básicas como suma, resta, multiplicación y división.\n",
    "\n",
    "### Operadores comunes:\n",
    "- `+` Suma\n",
    "- `-` Resta\n",
    "- `*` Multiplicación\n",
    "- `/` División\n",
    "- `%` Módulo\n",
    "- `**` Exponenciación\n",
    "- `//` División entera"
   ]
  },
  {
   "cell_type": "code",
   "execution_count": null,
   "metadata": {},
   "outputs": [],
   "source": [
    "# Ejemplo: Operadores aritméticos\n",
    "a = 10\n",
    "b = 3\n",
    "print(f'Suma: {a} + {b} =  {a + b}')\n",
    "print(f'Resta: {a} - {b} = {a - b}')\n",
    "print(f'Multiplicación: {a} * {b} = {a * b}')\n",
    "print(f'División: {a} / {b} = {a / b}')\n",
    "print(f'Exponenciación: {a} a la {b} = {a ** b}')"
   ]
  },
  {
   "cell_type": "markdown",
   "id": "621f23ed",
   "metadata": {},
   "source": [
    "### División entera en Python\n",
    "\n",
    "En Python, la **división entera** se realiza con el operador `//`.\n",
    "\n",
    "Este operador devuelve el **cociente entero** de la división, **descartando los decimales**.\n",
    "\n",
    "```python\n",
    "resultado = dividendo // divisor\n",
    "\n"
   ]
  },
  {
   "cell_type": "markdown",
   "id": "f0445d69",
   "metadata": {},
   "source": [
    "### Live code example.\n",
    "- Obtener división entera entre un numero a y un numero b"
   ]
  },
  {
   "cell_type": "code",
   "execution_count": 20,
   "id": "fb16ea21",
   "metadata": {},
   "outputs": [],
   "source": [
    "a=80\n",
    "b=10"
   ]
  },
  {
   "cell_type": "code",
   "execution_count": 21,
   "id": "5879384e",
   "metadata": {},
   "outputs": [
    {
     "name": "stdout",
     "output_type": "stream",
     "text": [
      "modulo de la division entera es: 80 entre 10 = 0\n"
     ]
    }
   ],
   "source": [
    "print(f\"modulo de la division entera es: {a} entre {b} = {a%b}\")"
   ]
  },
  {
   "cell_type": "markdown",
   "id": "16c3462f",
   "metadata": {},
   "source": [
    "### ¿Qué es el residuo o módulo?\n",
    "\n",
    "El **residuo** es el valor restante después de dividir un número entre otro.  \n",
    "Se representa con el operador `%` en muchos lenguajes de programación.\n",
    "\n",
    "### Live code example.\n",
    "- Obtener residuo entre 16 y 3.\n"
   ]
  },
  {
   "cell_type": "code",
   "execution_count": 18,
   "id": "882c8583",
   "metadata": {},
   "outputs": [],
   "source": [
    "a=16\n",
    "b=3\n",
    "residuo= a%b"
   ]
  },
  {
   "cell_type": "code",
   "execution_count": 19,
   "id": "8145dbaf",
   "metadata": {},
   "outputs": [
    {
     "name": "stdout",
     "output_type": "stream",
     "text": [
      "el residuo de 16 dividido entre 3 es: 1\n"
     ]
    }
   ],
   "source": [
    "print(f\"el residuo de {a} dividido entre {b} es: {residuo}\")"
   ]
  },
  {
   "cell_type": "markdown",
   "metadata": {},
   "source": [
    "### Actividad: Operadores Aritméticos\n",
    "Dado `x = 15` y `y = 4`, realiza las siguientes operaciones:\n",
    "1. Calcula el residuo de `x` dividido entre `y`. Guarda el resultado en una variable llamada `residuo` e imprime."
   ]
  },
  {
   "cell_type": "code",
   "execution_count": 22,
   "metadata": {},
   "outputs": [],
   "source": [
    "x=15\n",
    "y=4\n",
    "\n",
    "residuo=x%y"
   ]
  },
  {
   "cell_type": "code",
   "execution_count": 23,
   "id": "7aeda583",
   "metadata": {},
   "outputs": [
    {
     "name": "stdout",
     "output_type": "stream",
     "text": [
      "el residuo de 15 entre 4 es: 3\n"
     ]
    }
   ],
   "source": [
    "print(f\"el residuo de {x} entre {y} es: {residuo}\")"
   ]
  },
  {
   "cell_type": "markdown",
   "id": "ba5f131f",
   "metadata": {},
   "source": [
    "2. Calcula `x` elevado a la potencia de `y`. Guarda el resultado en una variable llamada `potencia` e imprime.\n"
   ]
  },
  {
   "cell_type": "code",
   "execution_count": 24,
   "id": "d640d8a9",
   "metadata": {},
   "outputs": [],
   "source": [
    "x=15\n",
    "y=4\n",
    "\n",
    "potencia=x**y"
   ]
  },
  {
   "cell_type": "code",
   "execution_count": 25,
   "id": "e5b4f674",
   "metadata": {},
   "outputs": [
    {
     "name": "stdout",
     "output_type": "stream",
     "text": [
      "15 elevado a la 4 es: 50625\n"
     ]
    }
   ],
   "source": [
    "print(f\"{x} elevado a la {y} es: {potencia}\")"
   ]
  },
  {
   "cell_type": "markdown",
   "id": "fa6a51d3",
   "metadata": {},
   "source": [
    "3. Calcula la división entera de `x` entre `y`. Guarda el resultado en una variable llamada `division_entera` e imprime."
   ]
  },
  {
   "cell_type": "code",
   "execution_count": 26,
   "id": "bc85ee17",
   "metadata": {},
   "outputs": [],
   "source": [
    "x=15\n",
    "y=4\n",
    "division=x//y"
   ]
  },
  {
   "cell_type": "code",
   "execution_count": 27,
   "id": "fea67724",
   "metadata": {},
   "outputs": [
    {
     "name": "stdout",
     "output_type": "stream",
     "text": [
      "la division entera de 15 entre 4 es: 3\n"
     ]
    }
   ],
   "source": [
    "print(f\"la division entera de {x} entre {y} es: {division}\")"
   ]
  },
  {
   "cell_type": "markdown",
   "metadata": {},
   "source": [
    "## 2. Operadores de Comparación\n",
    "Los operadores de comparación se utilizan para comparar valores y devuelven un valor booleano (`True` o `False`).\n",
    "\n",
    "### Operadores comunes:\n",
    "- `==` Igual a\n",
    "- `!=` Diferente de\n",
    "- `>` Mayor que\n",
    "- `<` Menor que\n",
    "- `>=` Mayor o igual que\n",
    "- `<=` Menor o igual que"
   ]
  },
  {
   "cell_type": "code",
   "execution_count": null,
   "metadata": {},
   "outputs": [],
   "source": [
    "# Ejemplo: Operadores de comparación\n",
    "a = 10\n",
    "b = 20\n",
    "print(f'¿a es igual a b? {a == b}')\n",
    "print(f'¿a es diferente de b? {a != b}')\n",
    "print(f'¿a es mayor que b? {a > b}')\n",
    "print(f'¿a es menor o igual que b? {a <= b}')"
   ]
  },
  {
   "cell_type": "markdown",
   "id": "c55cb6a7",
   "metadata": {},
   "source": [
    "### Live code example\n",
    "- Ejemplificar algunos operadores con if else\n"
   ]
  },
  {
   "cell_type": "markdown",
   "id": "b38cf791",
   "metadata": {},
   "source": []
  },
  {
   "cell_type": "markdown",
   "metadata": {},
   "source": [
    "### Actividad: Operadores de Comparación\n",
    "Dado `a = 50` y `b = 25`, responde con código e imprime la respuesta:\n",
    "1. ¿`a` es mayor que `b`?\n"
   ]
  },
  {
   "cell_type": "code",
   "execution_count": null,
   "metadata": {},
   "outputs": [],
   "source": []
  },
  {
   "cell_type": "markdown",
   "id": "7440990e",
   "metadata": {},
   "source": [
    "Dado `a = 50` y `b = 75`, responde con código e imprime la respuesta:\n",
    "\n",
    "2. ¿`a` es igual a `b`?\n",
    "\n"
   ]
  },
  {
   "cell_type": "code",
   "execution_count": null,
   "id": "ab5ef5fd",
   "metadata": {},
   "outputs": [],
   "source": []
  },
  {
   "cell_type": "markdown",
   "id": "a6fabb2a",
   "metadata": {},
   "source": [
    "Dado `a = -300` y `b = 25`, responde con código e imprime la respuesta:\n",
    "\n",
    "3. ¿`b` es menor o igual que `a`?"
   ]
  },
  {
   "cell_type": "code",
   "execution_count": null,
   "id": "4f6a914e",
   "metadata": {},
   "outputs": [],
   "source": []
  }
 ],
 "metadata": {
  "kernelspec": {
   "display_name": "Python 3",
   "language": "python",
   "name": "python3"
  },
  "language_info": {
   "codemirror_mode": {
    "name": "ipython",
    "version": 3
   },
   "file_extension": ".py",
   "mimetype": "text/x-python",
   "name": "python",
   "nbconvert_exporter": "python",
   "pygments_lexer": "ipython3",
   "version": "3.13.3"
  }
 },
 "nbformat": 4,
 "nbformat_minor": 5
}
